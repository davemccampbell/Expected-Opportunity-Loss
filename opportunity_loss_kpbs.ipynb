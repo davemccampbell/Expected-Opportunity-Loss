{
 "cells": [
  {
   "cell_type": "code",
   "execution_count": 30,
   "id": "2aa7e824-4a04-4fb3-bdf4-e972e5bc9ffe",
   "metadata": {},
   "outputs": [],
   "source": [
    "import math\n",
    "import pandas as pd\n",
    "import numpy as np"
   ]
  },
  {
   "cell_type": "code",
   "execution_count": 6,
   "id": "fc48b326-f025-4406-b1fe-ec1576378507",
   "metadata": {},
   "outputs": [],
   "source": [
    "# citations\n",
    "# https://www.instagram.com/kpbs/?hl=en\n",
    "# https://www.facebook.com/KPBSSanDiego/\n",
    "# https://www.pewresearch.org/journalism/2020/07/30/americans-who-mainly-get-their-news-on-social-media-are-less-engaged-less-knowledgeable/\n",
    "# https://www.pewresearch.org/journalism/2018/09/10/news-use-across-social-media-platforms-2018/\n",
    "# https://cdn.kpbs.org/08/6f/bc092fe0432e85004da24995ef88/2023-kpbs-afs.pdf\n",
    "# https://backlinko.com/instagram-users\n",
    "# https://www.theverge.com/2024/11/13/24295477/bluesky-is-almost-at-15-million-users\n",
    "# https://www.warc.com/newsandopinion/news/social-media-user-overlaps-mapped/en-gb/46624\n",
    "# https://www.namepepper.com/bluesky-statistics\n",
    "# https://en.m.wikipedia.org/wiki/File:Bluesky_Registered_Users.svg#metadata\n",
    "# https://www.statista.com/topics/737/twitter/#topicOverview"
   ]
  },
  {
   "cell_type": "code",
   "execution_count": 1,
   "id": "6dd53e62-d905-4510-b514-f31e3c812ba0",
   "metadata": {},
   "outputs": [],
   "source": [
    "# kpbs_IG 45.2k followers\n",
    "# _kpbs_facebook 70k followers\n",
    "# kpbs_twitter/_X 47000 followers\n",
    "# 132 mentions on kpbs since and before bluesky's official launch in Feb 6, 2024\n",
    "# instagram monthly active users 2 billion\n",
    "# Facebook 3 billion active users\n",
    "# twitter/ 429 million users \n",
    "# bluesky users base 14,980,000\n",
    "# 18%-47%  of people get news from social media"
   ]
  },
  {
   "cell_type": "code",
   "execution_count": 7,
   "id": "60e806db-99b9-4d12-89d0-781d3aefb1f5",
   "metadata": {},
   "outputs": [
    {
     "name": "stdout",
     "output_type": "stream",
     "text": [
      "kpbs_ig: 0.0000226000\n",
      "kpbs_fb: 0.0000233333\n",
      "kpbs_X: 0.0001095571\n",
      "Average: 0.0000518301\n"
     ]
    }
   ],
   "source": [
    "# Perform the conversion rate\n",
    "kpbs_ig = 45200 / 2000000000\n",
    "kpbs_fb = 70000 / 3000000000\n",
    "kpbs_X= 47000 /429000000  #kpbs left twitter/X on 4/17/2023\n",
    "# Calculate the average\n",
    "average = (kpbs_ig + kpbs_fb + kpbs_X ) / 3\n",
    "\n",
    "# Print the results with more readable float format\n",
    "print(\"kpbs_ig: {:.10f}\".format(kpbs_ig))\n",
    "print(\"kpbs_fb: {:.10f}\".format(kpbs_fb))\n",
    "print(\"kpbs_X: {:.10f}\".format(kpbs_X))\n",
    "print(\"Average: {:.10f}\".format(average))\n"
   ]
  },
  {
   "cell_type": "code",
   "execution_count": 8,
   "id": "c99375bd-ae13-4fb8-8494-e3a6231b5af4",
   "metadata": {},
   "outputs": [],
   "source": [
    "kpbs_ig_conversion_rt=0.0000226000\n",
    "kpbs_fb_conversion_rt=0.0000233333\n",
    "kpbs_X_conversion_rt=0.0001095571\n",
    "kpbs_ig_fb__X_conversion_rt_avg=0.0000518301"
   ]
  },
  {
   "cell_type": "code",
   "execution_count": 9,
   "id": "cfd951d6-c2cb-43b7-b5c2-48d4b3bac0f1",
   "metadata": {},
   "outputs": [
    {
     "name": "stdout",
     "output_type": "stream",
     "text": [
      "787.81752\n"
     ]
    }
   ],
   "source": [
    "# estimate potential follower base in bluesky\n",
    "# equation: potential_followers_on_bluesky=User_Base_on_bluesky x kpbs_Average Conversion Rate\n",
    "# average the kpbs facebook and instagram conversion rates\n",
    "User_Base_on_bluesky=15200000  #at the time of this calculation\n",
    "potential_followers_on_bluesky= User_Base_on_bluesky * (kpbs_ig_fb__X_conversion_rt_avg)\n",
    "\n",
    "print(potential_followers_on_bluesky)"
   ]
  },
  {
   "cell_type": "code",
   "execution_count": 10,
   "id": "6d861a70-6c36-4cd4-af66-e06a6ba4e4c9",
   "metadata": {},
   "outputs": [],
   "source": [
    "actual_mentions_on_bluesky= 132\n"
   ]
  },
  {
   "cell_type": "code",
   "execution_count": 11,
   "id": "61dfcf85-3b62-4efb-999e-5b978d6ec9bc",
   "metadata": {},
   "outputs": [
    {
     "name": "stdout",
     "output_type": "stream",
     "text": [
      "655.81752\n"
     ]
    }
   ],
   "source": [
    "# get the difference of actual mentions and potential followers of kpbs on blusesky\n",
    "number_of_followers_who_might_engage_with_kpbs_bluesky= potential_followers_on_bluesky-actual_mentions_on_bluesky\n",
    "print(number_of_followers_who_might_engage_with_kpbs_bluesky)"
   ]
  },
  {
   "cell_type": "code",
   "execution_count": 13,
   "id": "3258ee77-6855-4736-a702-409b89f98679",
   "metadata": {},
   "outputs": [
    {
     "name": "stdout",
     "output_type": "stream",
     "text": [
      "141.8071536\n",
      "370.27423439999995\n"
     ]
    }
   ],
   "source": [
    "# using pew research data, calculate weighted follower ranges and apply a confidence interval\n",
    "low_range= potential_followers_on_bluesky * 0.18\n",
    "high_range= potential_followers_on_bluesky * 0.47\n",
    "print(low_range)\n",
    "print(high_range)"
   ]
  },
  {
   "cell_type": "code",
   "execution_count": 14,
   "id": "3a95abc4-1139-4252-b52e-247361fcba9e",
   "metadata": {},
   "outputs": [
    {
     "data": {
      "text/plain": [
       "370.27423439999995"
      ]
     },
     "execution_count": 14,
     "metadata": {},
     "output_type": "execute_result"
    }
   ],
   "source": [
    "high_range"
   ]
  },
  {
   "cell_type": "code",
   "execution_count": 15,
   "id": "314ee756-43f0-43e7-9571-6995835fc4f6",
   "metadata": {},
   "outputs": [
    {
     "name": "stdout",
     "output_type": "stream",
     "text": [
      "Low Estimate_lower: 135\n",
      "Low Estimate_upper: 149\n",
      "High Estimate_lower: 352\n",
      "High Estimate_upper: 389\n"
     ]
    }
   ],
   "source": [
    "# confidence intervals for potential followers of kpbs on bluesky \n",
    "\n",
    "# Calculate low estimate (minus 5%)\n",
    "low_estimate_ci_lower = low_range * 0.95\n",
    "print(\"Low Estimate_lower:\", round(low_estimate_ci_lower))\n",
    "low_estimate_ci_upper = low_range * 1.05\n",
    "print(\"Low Estimate_upper:\", round(low_estimate_ci_upper))\n",
    "# Calculate high estimate (plus 5%)\n",
    "high_estimate_ci_lower = high_range * 0.95\n",
    "print(\"High Estimate_lower:\", round(high_estimate_ci_lower))\n",
    "high_estimate_ci_upper = high_range * 1.05\n",
    "print(\"High Estimate_upper:\", round(high_estimate_ci_upper))\n"
   ]
  },
  {
   "cell_type": "code",
   "execution_count": 16,
   "id": "0ba74ac5-e409-492c-8efd-1f450fec2dfa",
   "metadata": {},
   "outputs": [
    {
     "name": "stdout",
     "output_type": "stream",
     "text": [
      "162200\n"
     ]
    }
   ],
   "source": [
    "# estimate. Calculate Per-Follower Revenue and Contributions\n",
    "kpbs_fb_followers= 70000\n",
    "kpbs_ig_followers=45200\n",
    "kpbs_X_followers=47000\n",
    "combined_kpbs_followers =kpbs_fb_followers + kpbs_ig_followers + kpbs_X_followers\n",
    "print(combined_kpbs_followers)"
   ]
  },
  {
   "cell_type": "code",
   "execution_count": 17,
   "id": "077edb2f-2b85-43b0-bd2a-7e261a5fdcec",
   "metadata": {},
   "outputs": [
    {
     "name": "stdout",
     "output_type": "stream",
     "text": [
      "Weighted Average for 2022 and 2023: $287,802.60\n",
      "station_generated_support_avg: $182,891.80\n",
      "0.886863161716381\n"
     ]
    }
   ],
   "source": [
    "# Divide KPBS’s station-generated support by this combined follower count to obtain a single revenue-per-follower metric.\n",
    "# Station-generated support typically comes from local users and subscribers. \n",
    "# This offers a more accurate reflection of the community's direct engagement and support for KPBS.\n",
    "# We exclude the contribution line from the operating revenue of KPBS's financial statement \n",
    "# due to potential corporate contributions, nonprofit donors, and endowments, which can skew the level of local community support.\n",
    "# Average 2021-2023. use weighted avg for 2022 & 2023, assuming 2021 lower figures were a corollary from the covid pandemic.\n",
    "station_generated_support_2021= 77981\n",
    "station_generated_support_2022= 319953\n",
    "station_generated_support_2023= 266369\n",
    "# Weights for 2022 and 2023\n",
    "weight_2022 = 0.4 # this weight ensures that its influence is acknowledged but not as heavily as the most recent year.\n",
    "weight_2023 = 0.6 # this weight reflects recency and it is more distant from the covid corollary.\n",
    "\n",
    "# Calculate the weighted average for 2022 and 2023\n",
    "weighted_avg_22_23 = (weight_2023 * station_generated_support_2023) + (weight_2022 * station_generated_support_2022)\n",
    "\n",
    "# Calculate the overall average including 2021\n",
    "station_generated_support_avg = (weighted_avg_22_23 + station_generated_support_2021) / 2\n",
    "revenue_per_follower_metric_raw=combined_kpbs_followers/station_generated_support_avg\n",
    "# print\n",
    "print(\"Weighted Average for 2022 and 2023: ${:,.2f}\".format(weighted_avg_22_23))\n",
    "print(\"station_generated_support_avg: ${:,.2f}\".format(station_generated_support_avg))\n",
    "print(revenue_per_follower_metric_raw)"
   ]
  },
  {
   "cell_type": "code",
   "execution_count": 18,
   "id": "cd86f6a4-935d-405c-b6f3-50c80cdb7e3c",
   "metadata": {},
   "outputs": [
    {
     "name": "stdout",
     "output_type": "stream",
     "text": [
      "119.47536356591164\n",
      "344.80170713320115\n"
     ]
    }
   ],
   "source": [
    "# weight the revenue per follower metric\n",
    "weighted_revenue_per_follower_lower=revenue_per_follower_metric_raw*low_estimate_ci_lower\n",
    "weighted_revenue_per_follower_upper=revenue_per_follower_metric_raw*high_estimate_ci_upper\n",
    "print(weighted_revenue_per_follower_lower)\n",
    "print(weighted_revenue_per_follower_upper)"
   ]
  },
  {
   "cell_type": "code",
   "execution_count": 20,
   "id": "cafa14f3-441d-4131-9aa8-92fb48940aad",
   "metadata": {},
   "outputs": [
    {
     "name": "stdout",
     "output_type": "stream",
     "text": [
      "51800.0\n",
      "38420.0\n"
     ]
    }
   ],
   "source": [
    "# sanity check snippet for below adjust for social media overlap. 74% of fb is on ig and 85% of ig users are on fb\n",
    "\n",
    "Unique_Facebook_Users_on_ig=kpbs_fb_followers*0.74\n",
    "Unique_ig_Users_on_fb=kpbs_ig_followers*0.85\n",
    "print(Unique_Facebook_Users_on_ig)\n",
    "print(Unique_ig_Users_on_fb)"
   ]
  },
  {
   "cell_type": "code",
   "execution_count": 21,
   "id": "8495a2a1-a7f2-4d8d-9df3-90dc7368abac",
   "metadata": {},
   "outputs": [
    {
     "name": "stdout",
     "output_type": "stream",
     "text": [
      "Facebook users also on Instagram: 51800.0\n",
      "Instagram users also on Facebook: 38420.0\n",
      "Facebook users also on Twitter: 37100.0\n",
      "Instagram users also on Twitter: 27120.0\n"
     ]
    }
   ],
   "source": [
    "# Adjust for social media overlap. 74% of FB is on IG and 85% of IG users are on FB\n",
    "kpbs_fb_followers = 70000  # Example value, replace with actual\n",
    "kpbs_ig_followers = 45200  # Example value, replace with actual\n",
    "\n",
    "Unique_Facebook_Users_on_ig = kpbs_fb_followers * 0.74\n",
    "Unique_ig_Users_on_fb = kpbs_ig_followers * 0.85\n",
    "\n",
    "print(\"Facebook users also on Instagram:\", Unique_Facebook_Users_on_ig)\n",
    "print(\"Instagram users also on Facebook:\", Unique_ig_Users_on_fb)\n",
    "\n",
    "# Twitter overlap. 53% of facebook users are on twitter and 60% of instagram users are on twitter.\n",
    "Unique_Facebook_users_on_twitter = kpbs_fb_followers * 0.53\n",
    "Unique_Instagram_users_on_twitter = kpbs_ig_followers * 0.60\n",
    "\n",
    "print(\"Facebook users also on Twitter:\", Unique_Facebook_users_on_twitter)\n",
    "print(\"Instagram users also on Twitter:\", Unique_Instagram_users_on_twitter)\n"
   ]
  },
  {
   "cell_type": "code",
   "execution_count": 22,
   "id": "7b1285b6-f686-4f76-9c36-f7e0354c3f51",
   "metadata": {},
   "outputs": [
    {
     "name": "stdout",
     "output_type": "stream",
     "text": [
      "76780.0\n"
     ]
    }
   ],
   "source": [
    "# get unique followers: Unique Followers =kpbs_fb_followers + kpbs_ig_followers−Overlap\n",
    "# use the smaller overlap to avoid double counting twice\n",
    "overlap=Unique_ig_Users_on_fb\n",
    "Unique_Followers = kpbs_fb_followers + kpbs_ig_followers - overlap\n",
    "print(Unique_Followers)"
   ]
  },
  {
   "cell_type": "code",
   "execution_count": 23,
   "id": "c1897166-4694-41f4-b1c3-2d1374e6b579",
   "metadata": {},
   "outputs": [
    {
     "name": "stdout",
     "output_type": "stream",
     "text": [
      "Unique Followers without Twitter: 76780.0\n",
      "Total unique followers across FB, IG, and Twitter: 113880.0\n"
     ]
    }
   ],
   "source": [
    "# Determine the overall overlap. Use the smaller overlap to avoid double counting twice\n",
    "# Using the smaller overlap between FB and IG\n",
    "overlap_fb_ig = min(Unique_Facebook_Users_on_ig, Unique_ig_Users_on_fb)\n",
    "\n",
    "# Calculate unique followers for FB and IG first\n",
    "Unique_Followers_no_twitter = kpbs_fb_followers + kpbs_ig_followers - overlap_fb_ig\n",
    "print(\"Unique Followers without Twitter:\", Unique_Followers_no_twitter)\n",
    "\n",
    "# Now include Twitter\n",
    "# Calculate unique followers with Twitter\n",
    "# Here we need to consider overlaps for all three platforms accurately\n",
    "Unique_Followers = (\n",
    "    Unique_Followers_no_twitter + \n",
    "    Unique_Facebook_users_on_twitter + \n",
    "    Unique_Instagram_users_on_twitter - # ensure we are not double counting users\n",
    "    min(Unique_Facebook_users_on_twitter, Unique_Instagram_users_on_twitter)\n",
    ")\n",
    "\n",
    "print(\"Total unique followers across FB, IG, and Twitter:\", Unique_Followers)\n"
   ]
  },
  {
   "cell_type": "code",
   "execution_count": 24,
   "id": "9a51e572-0735-4a9e-96d6-b11de0a18c52",
   "metadata": {},
   "outputs": [
    {
     "name": "stdout",
     "output_type": "stream",
     "text": [
      "83.88319607204696\n",
      "242.08396059388994\n"
     ]
    }
   ],
   "source": [
    "# adjust opportunity loss calculation factoring the overlap. output lower:$83, upper $242\n",
    "lower_bound_op_loss_overlap_adjusted= weighted_revenue_per_follower_lower*Unique_Followers/combined_kpbs_followers\n",
    "upper_bound_op_loss_overlap_adjusted= weighted_revenue_per_follower_upper*Unique_Followers/combined_kpbs_followers\n",
    "print(lower_bound_op_loss_overlap_adjusted)\n",
    "print(upper_bound_op_loss_overlap_adjusted)"
   ]
  },
  {
   "cell_type": "code",
   "execution_count": 25,
   "id": "f42f73ba-b63d-49cd-a233-18be185f2a4e",
   "metadata": {},
   "outputs": [],
   "source": [
    "# https://en.m.wikipedia.org/wiki/File:Bluesky_Registered_Users.svg#metadata\n",
    "# get monthly bluesky new users growth\n",
    "feb_2024=3140008-2889718\n",
    "mar_2024=5099009-3140008\n",
    "apr_2024=5305827-5099009\n",
    "may_2024=5589425-5305827\n",
    "june_2024=5698531-5589425\n",
    "july_2024=5988217-5698531"
   ]
  },
  {
   "cell_type": "code",
   "execution_count": 26,
   "id": "c28367df-5256-4bcd-8ee3-dc2ea1926fa0",
   "metadata": {},
   "outputs": [
    {
     "data": {
      "text/plain": [
       "289686"
      ]
     },
     "execution_count": 26,
     "metadata": {},
     "output_type": "execute_result"
    }
   ],
   "source": [
    "# blue sky 2024 monthly users\n",
    "feb_2024\n",
    "mar_2024\n",
    "apr_2024\n",
    "may_2024\n",
    "june_2024\n",
    "july_2024"
   ]
  },
  {
   "cell_type": "code",
   "execution_count": 27,
   "id": "855f7677-524d-4a53-b859-58bc04254600",
   "metadata": {},
   "outputs": [],
   "source": [
    "# get august through mid november estimates\n",
    "aug_2024=6504634\n",
    "sept_2024=11104634\n",
    "oct_2024=13000000\n",
    "mid_nov_2024=15000000"
   ]
  },
  {
   "cell_type": "code",
   "execution_count": 28,
   "id": "9e8dca33-82dc-4efd-ae6c-09c0823a9151",
   "metadata": {},
   "outputs": [
    {
     "name": "stdout",
     "output_type": "stream",
     "text": [
      "Values in feb_2024: 250290\n",
      "Values in mar_2024: 1959001\n",
      "Values in apr_2024: 206818\n",
      "Values in may_2024: 283598\n",
      "Values in june_2024: 109106\n",
      "Values in july_2024: 289686\n"
     ]
    }
   ],
   "source": [
    "# Monthly new user numbers for Bluesky (replace the example data with your actual data)\n",
    "\n",
    "# List of vectors\n",
    "blsky_month = [\n",
    "    ('feb_2024', feb_2024),\n",
    "    ('mar_2024', mar_2024),\n",
    "    ('apr_2024', apr_2024),\n",
    "    ('may_2024', may_2024),\n",
    "    ('june_2024', june_2024),\n",
    "    ('july_2024', july_2024)\n",
    "]\n",
    "\n",
    "# Print the numbers stored in each vector\n",
    "for name, blsky_month in blsky_month:\n",
    "    print(f\"Values in {name}: {blsky_month}\")\n"
   ]
  },
  {
   "cell_type": "code",
   "execution_count": 31,
   "id": "864e7778-ab8b-4a66-bdb7-4fbdcc130c02",
   "metadata": {},
   "outputs": [],
   "source": [
    "monthly_avg=np.mean([feb_2024,\n",
    "mar_2024,\n",
    "apr_2024,\n",
    "may_2024,\n",
    "june_2024,\n",
    "july_2024])"
   ]
  },
  {
   "cell_type": "code",
   "execution_count": 32,
   "id": "1e1b6ef9-9bc9-4794-a9fe-251a0194c53a",
   "metadata": {},
   "outputs": [
    {
     "data": {
      "text/plain": [
       "(516, 416.5)"
      ]
     },
     "execution_count": 32,
     "metadata": {},
     "output_type": "execute_result"
    }
   ],
   "source": [
    "monthly_avg\n",
    "516,416.5"
   ]
  },
  {
   "cell_type": "code",
   "execution_count": 49,
   "id": "eb8f72cd-0bd3-41db-a0fd-d98ff344b9b9",
   "metadata": {},
   "outputs": [],
   "source": [
    "import numpy as np\n",
    "import pandas as pd\n",
    "from sklearn.linear_model import LinearRegression\n",
    "from datetime import timedelta\n",
    "import matplotlib.pyplot as plt\n",
    "from matplotlib.backends.backend_pdf import PdfPages\n",
    "\n",
    "# Updated user data from February to November\n",
    "user_data = [3140008, 5099009, 5305827, 5589425, 5698531, 5988217, 6504634, 11104634, 13000000, 15000000]  # Feb to November user counts\n",
    "months = pd.date_range(start='2024-02', periods=10, freq='M')\n",
    "\n",
    "# Create DataFrame\n",
    "df = pd.DataFrame({'Month': months, 'Users': user_data})\n",
    "\n",
    "# Convert months to numeric values for regression\n",
    "df['Month_Num'] = (df['Month'] - df['Month'].min()).dt.days\n",
    "\n",
    "# Fit Linear Regression Model\n",
    "model = LinearRegression()\n",
    "model.fit(df[['Month_Num']], df['Users'])\n",
    "\n",
    "# Forecast for the next 12 months\n",
    "future_months = pd.date_range(start=df['Month'].max() + timedelta(days=1), periods=12, freq='M')\n",
    "future_month_nums = np.array((future_months - df['Month'].min()).days).reshape(-1, 1)\n",
    "\n",
    "# Predict future user numbers\n",
    "future_users = model.predict(future_month_nums)\n",
    "\n",
    "# Calculate lower and upper bounds based on initial bounds and projected user growth\n",
    "# Adjust based on unique followers and projected growth\n",
    "initial_users = 15000000  # Starting with current bluesky user count\n",
    "eol_lower_bound_initial = 83.00 # Adjusted for overlap\n",
    "eol_upper_bound_initial = 242.00 # Adjusted for overlap\n",
    "\n",
    "# Adjust based on unique followers\n",
    "eol_lower_bound = initial_users * (eol_lower_bound_initial / 787)  # Adjust this value as needed\n",
    "eol_upper_bound = initial_users * (eol_upper_bound_initial / 787)  # Adjust this value as needed\n",
    "\n",
    "# Apply these to the future users to get projected EOL\n",
    "future_eol_lower_bound = eol_lower_bound + (future_users * (eol_lower_bound_initial / 100))\n",
    "future_eol_upper_bound = eol_upper_bound + (future_users * (eol_upper_bound_initial / 100))\n",
    "\n",
    "# Combine historical and forecasted data for further analysis\n",
    "all_months = np.concatenate([df['Month'].values, future_months])\n",
    "all_users = np.concatenate([df['Users'].values, future_users])\n",
    "\n",
    "# Plot the historical and forecasted user growth\n",
    "fig, ax = plt.subplots(figsize=(12, 6))\n",
    "plt.plot(df['Month'], df['Users'], label='Historical Data', color='deepskyblue', marker='o')\n",
    "plt.plot(future_months, future_users, label='Forecast', color='gold', linestyle='--', marker='x')\n",
    "plt.fill_between(future_months, future_eol_lower_bound, future_eol_upper_bound, color='lightgreen', alpha=0.3, label='EOL Range')\n",
    "plt.title('User Growth Forecast and Expected Opportunity Loss (EOL)')\n",
    "plt.xlabel('Month')\n",
    "plt.ylabel('Number of Users (millions)')\n",
    "\n",
    "# Adjust y-axis to cover the upper bound\n",
    "max_users = max(max(all_users), max(future_eol_upper_bound))\n",
    "plt.yticks(np.arange(0, max_users + 5000000, 5000000), labels=np.arange(0, max_users/1e6 + 5, 5).astype(int))\n",
    "plt.legend()\n",
    "plt.grid(True, color='whitesmoke')  # Change the grid color to whitesmoke\n",
    "plt.gca().set_facecolor('dimgrey')  # Change the background color to dimgrey\n",
    "plt.show()\n",
    "\n",
    "# Save the plot as a PDF\n",
    "with PdfPages('user_growth_KPBS_Bluesky.pdf') as pdf:\n",
    "    pdf.savefig(fig)  # saves the current figure into a pdf page\n",
    "    plt.close()\n",
    "\n",
    "# Download the PDF file in Jupyter Notebook\n",
    "from IPython.display import FileLink\n",
    "FileLink(r'user_growth_KPBS_Bluesky.pdf')\n"
   ]
  },
  {
   "cell_type": "code",
   "execution_count": 50,
   "id": "e309cbec-73a1-40ed-ade6-ce1674259dfe",
   "metadata": {},
   "outputs": [
    {
     "data": {
      "text/html": [
       "<a href='Bluesky_Mentions_KPBS.pdf' target='_blank'>Bluesky_Mentions_KPBS.pdf</a><br>"
      ],
      "text/plain": [
       "C:\\Users\\Dave\\EDA\\Bluesky_Mentions_KPBS.pdf"
      ]
     },
     "execution_count": 50,
     "metadata": {},
     "output_type": "execute_result"
    }
   ],
   "source": [
    "import matplotlib.pyplot as plt\n",
    "from matplotlib.backends.backend_pdf import PdfPages\n",
    "from IPython.display import FileLink\n",
    "\n",
    "# Data\n",
    "labels = ['Total Mentions', 'Beta Launch: Feb, 2023 (invite only)', 'Official Launch: Feb-mid Nov, 2024']\n",
    "mentions = [132, 47, 85]\n",
    "\n",
    "# Create bar chart\n",
    "plt.figure(figsize=(10, 6))\n",
    "plt.bar(labels, mentions, color=['maroon', 'darkgoldenrod', 'goldenrod'])\n",
    "plt.title('KPBS Mentions on Bluesky')\n",
    "plt.xlabel('Period')\n",
    "plt.ylabel('Number of Mentions')\n",
    "plt.ylim(0, max(mentions) + 10)  # Add some space above the highest bar for better visualization\n",
    "\n",
    "# Annotate the bars with the mention numbers\n",
    "for i, mention in enumerate(mentions):\n",
    "    plt.text(i, mention + 2, str(mention), ha='center', color='whitesmoke', fontsize=12)\n",
    "\n",
    "plt.grid(True, color='snow', axis='y', alpha=0.7)\n",
    "plt.gca().set_facecolor('dimgrey')\n",
    "\n",
    "# Set smaller font size for the x-axis labels\n",
    "plt.xticks(fontsize=8)\n",
    "\n",
    "# Save the plot as a PDF before showing it\n",
    "with PdfPages('Bluesky_Mentions_KPBS.pdf') as pdf:\n",
    "    pdf.savefig()  # saves the current figure into a pdf page\n",
    "    plt.close()\n",
    "\n",
    "# Now show the plot\n",
    "plt.show()\n",
    "\n",
    "# Provide a download link\n",
    "FileLink(r'Bluesky_Mentions_KPBS.pdf')\n"
   ]
  },
  {
   "cell_type": "code",
   "execution_count": 48,
   "id": "d2ac3baa-72cf-43d5-96ed-4ca36a6edbeb",
   "metadata": {},
   "outputs": [],
   "source": [
    "import numpy as np\n",
    "import pandas as pd\n",
    "from sklearn.linear_model import LinearRegression\n",
    "from datetime import timedelta\n",
    "import matplotlib.pyplot as plt\n",
    "from matplotlib.backends.backend_pdf import PdfPages\n",
    "\n",
    "# Updated user data from February to November\n",
    "user_data = [3140008, 5099009, 5305827, 5589425, 5698531, 5988217, 6504634, 11104634, 13000000, 15000000]  # Feb to November user counts\n",
    "months = pd.date_range(start='2024-02', periods=10, freq='M')\n",
    "\n",
    "# Create DataFrame\n",
    "df = pd.DataFrame({'Month': months, 'Users': user_data})\n",
    "\n",
    "# Convert months to numeric values for regression\n",
    "df['Month_Num'] = (df['Month'] - df['Month'].min()).dt.days\n",
    "\n",
    "# Fit Linear Regression Model\n",
    "model = LinearRegression()\n",
    "model.fit(df[['Month_Num']], df['Users'])\n",
    "\n",
    "# Forecast for the next 12 months\n",
    "future_months = pd.date_range(start=df['Month'].max() + timedelta(days=1), periods=12, freq='M')\n",
    "future_month_nums = np.array((future_months - df['Month'].min()).days).reshape(-1, 1)\n",
    "# Predict future user numbers\n",
    "future_users = model.predict(future_month_nums)\n",
    "\n",
    "# Combine historical and future user counts\n",
    "all_users = np.concatenate((user_data, future_users))\n",
    "\n",
    "# Project KPBS's potential follower count on Bluesky based on user growth\n",
    "initial_users = 15000000  # Starting with current Bluesky user count\n",
    "kpbs_follower_low = [135 * (users / initial_users) for users in all_users]\n",
    "kpbs_follower_high = [389 * (users / initial_users) for users in all_users]\n",
    "\n",
    "# Calculate Expected Opportunity Loss (EOL) for each month\n",
    "eol_lower_bound_initial = 83\n",
    "eol_upper_bound_initial = 242\n",
    "\n",
    "# Use the updated potential followers raw on Bluesky (787)\n",
    "eol_low = [followers * (eol_lower_bound_initial / 787) for followers in kpbs_follower_low]  # Lower EOL\n",
    "eol_high = [followers * (eol_upper_bound_initial / 787) for followers in kpbs_follower_high]  # Upper EOL\n",
    "\n",
    "# Ensure all arrays have the same length before creating the DataFrame\n",
    "print(f\"Length of all_users: {len(all_users)}\")\n",
    "print(f\"Length of kpbs_follower_low: {len(kpbs_follower_low)}\")\n",
    "print(f\"Length of kpbs_follower_high: {len(kpbs_follower_high)}\")\n",
    "print(f\"Length of eol_low: {len(eol_low)}\")\n",
    "print(f\"Length of eol_high: {len(eol_high)}\")\n",
    "print(f\"Length of months: {len(np.concatenate([df['Month'].values, future_months]))}\")\n",
    "\n",
    "# Ensure all arrays have the same length before creating the DataFrame\n",
    "assert len(all_users) == len(kpbs_follower_low) == len(kpbs_follower_high) == len(eol_low) == len(eol_high) == len(np.concatenate([df['Month'].values, future_months]))\n",
    "\n",
    "# Prepare data for plotting\n",
    "all_months = np.concatenate([df['Month'].values, future_months])\n",
    "eol_data = pd.DataFrame({\n",
    "    'Month': all_months,\n",
    "    'Bluesky_Users': all_users,\n",
    "    'kpbs_Follower_Low': kpbs_follower_low,\n",
    "    'kpbs_Follower_High': kpbs_follower_high,\n",
    "    'EOL_Low': eol_low,\n",
    "    'EOL_High': eol_high\n",
    "})\n",
    "\n",
    "# Plot Expected Opportunity Loss over time\n",
    "plt.figure(figsize=(12, 6))\n",
    "plt.plot(eol_data['Month'], eol_data['EOL_Low'], label='Lower Bound EOL', color='deepskyblue', linestyle='--')\n",
    "plt.plot(eol_data['Month'], eol_data['EOL_High'], label='Upper Bound EOL', color='springgreen', linestyle='--')\n",
    "plt.fill_between(eol_data['Month'], eol_data['EOL_Low'], eol_data['EOL_High'], color='skyblue', alpha=0.4)\n",
    "plt.title(\"12 month outlook: Potential missed opportunity for KPBS to capture value on Bluesky\")\n",
    "plt.xlabel(\"Months from Start\")\n",
    "plt.ylabel(\"Expected Opportunity Loss (0 to 250 USD)\")\n",
    "plt.ylim(0, 250)  # Ensure y-axis scale is from 0 to 200 USD\n",
    "\n",
    "# Annotate the final EOL values\n",
    "final_month = eol_data['Month'].iloc[-1]\n",
    "final_eol_low = eol_data['EOL_Low'].iloc[-1]\n",
    "final_eol_high = eol_data['EOL_High'].iloc[-1]\n",
    "plt.annotate(f'${final_eol_low:.2f}', xy=(final_month, final_eol_low), xytext=(final_month, final_eol_low + 2),\n",
    "             arrowprops=dict(facecolor='deepskyblue', shrink=0.05), fontsize=10, color='aliceblue', ha='right')\n",
    "plt.annotate(f'${final_eol_high:.2f}', xy=(final_month, final_eol_high), xytext=(final_month, final_eol_high - 5),\n",
    "             arrowprops=dict(facecolor='springgreen', shrink=0.05), fontsize=10, color='azure', ha='right')\n",
    "\n",
    "plt.legend()\n",
    "plt.grid(True, color='whitesmoke') # Change the grid color to whitesmoke\n",
    "plt.gca().set_facecolor('dimgrey') # Change the background color to dimgrey\n",
    "# plt.grid(True)\n",
    "\n",
    "# Save the plot as a PDF\n",
    "with PdfPages('EOL_KPBS_Bluesky.pdf') as pdf: \n",
    "    pdf.savefig()  # saves the current figure into a pdf page\n",
    "    plt.close()\n",
    "\n",
    "# Download the PDF file in Jupyter Notebook\n",
    "from IPython.display import FileLink\n",
    "FileLink(r'EOL_KPBS_Bluesky.pdf')\n"
   ]
  },
  {
   "cell_type": "code",
   "execution_count": null,
   "id": "ed4cd6f8-33fa-474e-a53e-592705b8ef88",
   "metadata": {},
   "outputs": [],
   "source": []
  }
 ],
 "metadata": {
  "kernelspec": {
   "display_name": "Python 3 (ipykernel)",
   "language": "python",
   "name": "python3"
  },
  "language_info": {
   "codemirror_mode": {
    "name": "ipython",
    "version": 3
   },
   "file_extension": ".py",
   "mimetype": "text/x-python",
   "name": "python",
   "nbconvert_exporter": "python",
   "pygments_lexer": "ipython3",
   "version": "3.10.13"
  }
 },
 "nbformat": 4,
 "nbformat_minor": 5
}
